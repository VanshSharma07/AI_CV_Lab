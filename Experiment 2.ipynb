{
  "cells": [
    {
      "cell_type": "code",
      "execution_count": 34,
      "metadata": {
        "colab": {
          "base_uri": "https://localhost:8080/"
        },
        "collapsed": true,
        "id": "AILO9joi-eH_",
        "outputId": "8b0fe336-3c4e-45df-dbed-2d124df63b76"
      },
      "outputs": [
        {
          "output_type": "stream",
          "name": "stdout",
          "text": [
            "   sunny  warm normal  strong warm.1    same  yes\n",
            "0  sunny  warm   high  strong   warm    same  yes\n",
            "1  rainy  cold   high  strong   warm  change   no\n",
            "2  sunny  warm   high  strong   cool  change  yes\n",
            "[['sunny' 'warm' 'high' 'strong' 'warm' 'same']\n",
            " ['rainy' 'cold' 'high' 'strong' 'warm' 'change']\n",
            " ['sunny' 'warm' 'high' 'strong' 'cool' 'change']]\n",
            "['yes' 'no' 'yes']\n"
          ]
        }
      ],
      "source": [
        "import numpy as np\n",
        "import pandas as pd\n",
        "\n",
        "\n",
        "#loading data from CSV File\n",
        "data=pd.DataFrame(data=pd.read_csv('Book1.csv'))\n",
        "print(data)\n",
        "concepts=np.array(data.iloc[:,0:-1])\n",
        "print(concepts)\n",
        "target = np.array(data.iloc[:,-1])\n",
        "print(target)\n",
        "def learn(concepts,target):\n",
        "    specific_h = concepts[0].copy()\n",
        "    print(\"initialization of specific_h and general_h\")\n",
        "    print(specific_h)\n",
        "    general_h = [[\"?\" for i in range(len(specific_h))] for i in range(len(specific_h))]\n",
        "    print(general_h)\n",
        "    for i,h in enumerate(concepts):\n",
        "        if target[i] == \"yes\":\n",
        "            for x in range(len(specific_h)):\n",
        "                if h[x] != specific_h[x]:\n",
        "                    specific_h[x] = '?'\n",
        "                    general_h[x][x] = '?'\n",
        "        if target[i] == \"no\":\n",
        "            for x in range(len(specific_h)):\n",
        "                if h[x] != specific_h[x]:\n",
        "                    general_h[x][x] = specific_h[x]\n",
        "                else:\n",
        "                    general_h[x][x] = '?'\n",
        "        print(\" steps of Candidate Elimination Algorithm\",i+1)\n",
        "        print(specific_h)\n",
        "        print(general_h)\n",
        "    indices = [i for i,val in enumerate(general_h) if val == ['?','?','?','?','?','?']]\n",
        "    for i in indices:\n",
        "        general_h.remove(['?','?','?','?','?','?'])\n",
        "    return specific_h,general_h\n",
        "    s_final,g_final = learn(concepts,target)\n",
        "    print(\"final specific_h:\",s_final,sep=\"\\n\")\n",
        "    print(\"final general_h:\",g_final,sep=\"\\n\")"
      ]
    }
  ],
  "metadata": {
    "colab": {
      "provenance": []
    },
    "kernelspec": {
      "display_name": "Python 3",
      "name": "python3"
    },
    "language_info": {
      "name": "python"
    }
  },
  "nbformat": 4,
  "nbformat_minor": 0
}