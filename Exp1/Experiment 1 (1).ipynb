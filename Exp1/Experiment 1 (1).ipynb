{
  "nbformat": 4,
  "nbformat_minor": 0,
  "metadata": {
    "colab": {
      "provenance": []
    },
    "kernelspec": {
      "name": "python3",
      "display_name": "Python 3"
    },
    "language_info": {
      "name": "python"
    }
  },
  "cells": [
    {
      "cell_type": "code",
      "execution_count": 6,
      "metadata": {
        "id": "AILO9joi-eH_",
        "collapsed": true,
        "colab": {
          "base_uri": "https://localhost:8080/"
        },
        "outputId": "2a50f2c0-5d6f-4de8-87fa-e21abddc5c7f"
      },
      "outputs": [
        {
          "output_type": "stream",
          "name": "stdout",
          "text": [
            "The Given Training Data Set \n",
            "\n",
            "['sunny', 'warm', 'normal', 'strong', 'warm', 'same', 'yes']\n",
            "['sunny', 'warm', 'high', 'strong', 'warm', 'same', 'yes']\n",
            "['rainy', 'cold', 'high', 'strong', 'warm', 'change', 'no']\n",
            "['sunny', 'warm', 'high', 'strong', 'cool', 'change', 'yes']\n",
            "The initial value of Hypothesis: \n",
            "['0', '0', '0', '0', '0', '0']\n",
            "Find S: Finding a Maximally Specific Hypothesis \n",
            " \n",
            "The Maximally Specific Hypothesis Is: \n",
            "\n",
            "['warm', 'warm', 'warm', 'warm', 'warm', 'warm']\n"
          ]
        }
      ],
      "source": [
        "import csv\n",
        "num_att=6\n",
        "a=[]\n",
        "print(\"The Given Training Data Set \\n\")\n",
        "with open(r\"Book1.csv\") as csvfile:\n",
        "  reader=csv.reader(csvfile)\n",
        "  for row in reader:\n",
        "    a.append(row)\n",
        "    print(row)\n",
        "print(\"The initial value of Hypothesis: \")\n",
        "hypothesis=['0']*num_att\n",
        "print(hypothesis)\n",
        "\n",
        "for j in range(0,num_att):\n",
        "  hypothesis[j] = a[0][1]\n",
        "print(\"Find S: Finding a Maximally Specific Hypothesis \\n \")\n",
        "\n",
        "\n",
        "for i in range(0,len(a)):\n",
        "  if a[i][num_att]=='Yes':\n",
        "    for j in range(0,num_att):\n",
        "        if a[i][j]!=hypothesis[j]:\n",
        "                hypothesis[j]='?'\n",
        "        else:\n",
        "                hypothesis[j]=a[i][j]\n",
        "    print(\"For Training Instance No:{0} \\nThe Hypothesis Is\".format(i),hypothesis)\n",
        "\n",
        "print(\"The Maximally Specific Hypothesis Is: \\n\")\n",
        "print(hypothesis)\n",
        "\n",
        "\n"
      ]
    }
  ]
}